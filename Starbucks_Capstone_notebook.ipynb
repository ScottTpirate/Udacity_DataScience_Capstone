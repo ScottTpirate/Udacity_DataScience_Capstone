{
 "cells": [
  {
   "cell_type": "markdown",
   "metadata": {},
   "source": [
    "# Starbucks Capstone Challenge\n",
    "\n",
    "### Introduction\n",
    "\n",
    "This data set contains simulated data that mimics customer behavior on the Starbucks rewards mobile app. Once every few days, Starbucks sends out an offer to users of the mobile app. An offer can be merely an advertisement for a drink or an actual offer such as a discount or BOGO (buy one get one free). Some users might not receive any offer during certain weeks. \n",
    "\n",
    "Not all users receive the same offer, and that is the challenge to solve with this data set.\n",
    "\n",
    "Your task is to combine transaction, demographic and offer data to determine which demographic groups respond best to which offer type. This data set is a simplified version of the real Starbucks app because the underlying simulator only has one product whereas Starbucks actually sells dozens of products.\n",
    "\n",
    "Every offer has a validity period before the offer expires. As an example, a BOGO offer might be valid for only 5 days. You'll see in the data set that informational offers have a validity period even though these ads are merely providing information about a product; for example, if an informational offer has 7 days of validity, you can assume the customer is feeling the influence of the offer for 7 days after receiving the advertisement.\n",
    "\n",
    "You'll be given transactional data showing user purchases made on the app including the timestamp of purchase and the amount of money spent on a purchase. This transactional data also has a record for each offer that a user receives as well as a record for when a user actually views the offer. There are also records for when a user completes an offer. \n",
    "\n",
    "Keep in mind as well that someone using the app might make a purchase through the app without having received an offer or seen an offer.\n",
    "\n",
    "### Example\n",
    "\n",
    "To give an example, a user could receive a discount offer buy 10 dollars get 2 off on Monday. The offer is valid for 10 days from receipt. If the customer accumulates at least 10 dollars in purchases during the validity period, the customer completes the offer.\n",
    "\n",
    "However, there are a few things to watch out for in this data set. Customers do not opt into the offers that they receive; in other words, a user can receive an offer, never actually view the offer, and still complete the offer. For example, a user might receive the \"buy 10 dollars get 2 dollars off offer\", but the user never opens the offer during the 10 day validity period. The customer spends 15 dollars during those ten days. There will be an offer completion record in the data set; however, the customer was not influenced by the offer because the customer never viewed the offer.\n",
    "\n",
    "### Cleaning\n",
    "\n",
    "This makes data cleaning especially important and tricky.\n",
    "\n",
    "You'll also want to take into account that some demographic groups will make purchases even if they don't receive an offer. From a business perspective, if a customer is going to make a 10 dollar purchase without an offer anyway, you wouldn't want to send a buy 10 dollars get 2 dollars off offer. You'll want to try to assess what a certain demographic group will buy when not receiving any offers.\n",
    "\n",
    "### Final Advice\n",
    "\n",
    "Because this is a capstone project, you are free to analyze the data any way you see fit. For example, you could build a machine learning model that predicts how much someone will spend based on demographics and offer type. Or you could build a model that predicts whether or not someone will respond to an offer. Or, you don't need to build a machine learning model at all. You could develop a set of heuristics that determine what offer you should send to each customer (i.e., 75 percent of women customers who were 35 years old responded to offer A vs 40 percent from the same demographic to offer B, so send offer A)."
   ]
  },
  {
   "cell_type": "markdown",
   "metadata": {},
   "source": [
    "# Data Sets\n",
    "\n",
    "The data is contained in three files:\n",
    "\n",
    "* portfolio.json - containing offer ids and meta data about each offer (duration, type, etc.)\n",
    "* profile.json - demographic data for each customer\n",
    "* transcript.json - records for transactions, offers received, offers viewed, and offers completed\n",
    "\n",
    "Here is the schema and explanation of each variable in the files:\n",
    "\n",
    "**portfolio.json**\n",
    "* id (string) - offer id\n",
    "* offer_type (string) - type of offer ie BOGO, discount, informational\n",
    "* difficulty (int) - minimum required spend to complete an offer\n",
    "* reward (int) - reward given for completing an offer\n",
    "* duration (int) - time for offer to be open, in days\n",
    "* channels (list of strings)\n",
    "\n",
    "**profile.json**\n",
    "* age (int) - age of the customer \n",
    "* became_member_on (int) - date when customer created an app account\n",
    "* gender (str) - gender of the customer (note some entries contain 'O' for other rather than M or F)\n",
    "* id (str) - customer id\n",
    "* income (float) - customer's income\n",
    "\n",
    "**transcript.json**\n",
    "* event (str) - record description (ie transaction, offer received, offer viewed, etc.)\n",
    "* person (str) - customer id\n",
    "* time (int) - time in hours since start of test. The data begins at time t=0\n",
    "* value - (dict of strings) - either an offer id or transaction amount depending on the record\n",
    "\n"
   ]
  },
  {
   "cell_type": "code",
   "execution_count": 150,
   "metadata": {},
   "outputs": [],
   "source": [
    "import pandas as pd\n",
    "import numpy as np\n",
    "import math\n",
    "import json\n",
    "%matplotlib inline\n",
    "\n",
    "\n",
    "import seaborn as sns\n",
    "import scipy.stats as stats\n",
    "import matplotlib.pyplot as plt\n",
    "from scipy.linalg import svd\n",
    "from sklearn.metrics import mean_squared_error\n",
    "from sklearn.model_selection import train_test_split\n",
    "from sklearn.ensemble import RandomForestClassifier\n",
    "from sklearn.linear_model import LinearRegression\n",
    "from sklearn.metrics import accuracy_score\n",
    "\n",
    "\n",
    "# read in the json files\n",
    "portfolio = pd.read_json('data/portfolio.json', orient='records', lines=True)\n",
    "profile = pd.read_json('data/profile.json', orient='records', lines=True)\n",
    "transcript = pd.read_json('data/transcript.json', orient='records', lines=True)"
   ]
  },
  {
   "cell_type": "code",
   "execution_count": 151,
   "metadata": {},
   "outputs": [
    {
     "data": {
      "text/html": [
       "<div>\n",
       "<style scoped>\n",
       "    .dataframe tbody tr th:only-of-type {\n",
       "        vertical-align: middle;\n",
       "    }\n",
       "\n",
       "    .dataframe tbody tr th {\n",
       "        vertical-align: top;\n",
       "    }\n",
       "\n",
       "    .dataframe thead th {\n",
       "        text-align: right;\n",
       "    }\n",
       "</style>\n",
       "<table border=\"1\" class=\"dataframe\">\n",
       "  <thead>\n",
       "    <tr style=\"text-align: right;\">\n",
       "      <th></th>\n",
       "      <th>reward</th>\n",
       "      <th>channels</th>\n",
       "      <th>difficulty</th>\n",
       "      <th>duration</th>\n",
       "      <th>offer_type</th>\n",
       "      <th>id</th>\n",
       "    </tr>\n",
       "  </thead>\n",
       "  <tbody>\n",
       "    <tr>\n",
       "      <th>0</th>\n",
       "      <td>10</td>\n",
       "      <td>[email, mobile, social]</td>\n",
       "      <td>10</td>\n",
       "      <td>7</td>\n",
       "      <td>bogo</td>\n",
       "      <td>ae264e3637204a6fb9bb56bc8210ddfd</td>\n",
       "    </tr>\n",
       "    <tr>\n",
       "      <th>1</th>\n",
       "      <td>10</td>\n",
       "      <td>[web, email, mobile, social]</td>\n",
       "      <td>10</td>\n",
       "      <td>5</td>\n",
       "      <td>bogo</td>\n",
       "      <td>4d5c57ea9a6940dd891ad53e9dbe8da0</td>\n",
       "    </tr>\n",
       "    <tr>\n",
       "      <th>2</th>\n",
       "      <td>0</td>\n",
       "      <td>[web, email, mobile]</td>\n",
       "      <td>0</td>\n",
       "      <td>4</td>\n",
       "      <td>informational</td>\n",
       "      <td>3f207df678b143eea3cee63160fa8bed</td>\n",
       "    </tr>\n",
       "    <tr>\n",
       "      <th>3</th>\n",
       "      <td>5</td>\n",
       "      <td>[web, email, mobile]</td>\n",
       "      <td>5</td>\n",
       "      <td>7</td>\n",
       "      <td>bogo</td>\n",
       "      <td>9b98b8c7a33c4b65b9aebfe6a799e6d9</td>\n",
       "    </tr>\n",
       "    <tr>\n",
       "      <th>4</th>\n",
       "      <td>5</td>\n",
       "      <td>[web, email]</td>\n",
       "      <td>20</td>\n",
       "      <td>10</td>\n",
       "      <td>discount</td>\n",
       "      <td>0b1e1539f2cc45b7b9fa7c272da2e1d7</td>\n",
       "    </tr>\n",
       "  </tbody>\n",
       "</table>\n",
       "</div>"
      ],
      "text/plain": [
       "   reward                      channels  difficulty  duration     offer_type  \\\n",
       "0      10       [email, mobile, social]          10         7           bogo   \n",
       "1      10  [web, email, mobile, social]          10         5           bogo   \n",
       "2       0          [web, email, mobile]           0         4  informational   \n",
       "3       5          [web, email, mobile]           5         7           bogo   \n",
       "4       5                  [web, email]          20        10       discount   \n",
       "\n",
       "                                 id  \n",
       "0  ae264e3637204a6fb9bb56bc8210ddfd  \n",
       "1  4d5c57ea9a6940dd891ad53e9dbe8da0  \n",
       "2  3f207df678b143eea3cee63160fa8bed  \n",
       "3  9b98b8c7a33c4b65b9aebfe6a799e6d9  \n",
       "4  0b1e1539f2cc45b7b9fa7c272da2e1d7  "
      ]
     },
     "execution_count": 151,
     "metadata": {},
     "output_type": "execute_result"
    }
   ],
   "source": [
    "portfolio.head()\n"
   ]
  },
  {
   "cell_type": "code",
   "execution_count": 152,
   "metadata": {},
   "outputs": [
    {
     "data": {
      "text/html": [
       "<div>\n",
       "<style scoped>\n",
       "    .dataframe tbody tr th:only-of-type {\n",
       "        vertical-align: middle;\n",
       "    }\n",
       "\n",
       "    .dataframe tbody tr th {\n",
       "        vertical-align: top;\n",
       "    }\n",
       "\n",
       "    .dataframe thead th {\n",
       "        text-align: right;\n",
       "    }\n",
       "</style>\n",
       "<table border=\"1\" class=\"dataframe\">\n",
       "  <thead>\n",
       "    <tr style=\"text-align: right;\">\n",
       "      <th></th>\n",
       "      <th>gender</th>\n",
       "      <th>age</th>\n",
       "      <th>id</th>\n",
       "      <th>became_member_on</th>\n",
       "      <th>income</th>\n",
       "    </tr>\n",
       "  </thead>\n",
       "  <tbody>\n",
       "    <tr>\n",
       "      <th>0</th>\n",
       "      <td>None</td>\n",
       "      <td>118</td>\n",
       "      <td>68be06ca386d4c31939f3a4f0e3dd783</td>\n",
       "      <td>20170212</td>\n",
       "      <td>NaN</td>\n",
       "    </tr>\n",
       "    <tr>\n",
       "      <th>1</th>\n",
       "      <td>F</td>\n",
       "      <td>55</td>\n",
       "      <td>0610b486422d4921ae7d2bf64640c50b</td>\n",
       "      <td>20170715</td>\n",
       "      <td>112000.0</td>\n",
       "    </tr>\n",
       "    <tr>\n",
       "      <th>2</th>\n",
       "      <td>None</td>\n",
       "      <td>118</td>\n",
       "      <td>38fe809add3b4fcf9315a9694bb96ff5</td>\n",
       "      <td>20180712</td>\n",
       "      <td>NaN</td>\n",
       "    </tr>\n",
       "    <tr>\n",
       "      <th>3</th>\n",
       "      <td>F</td>\n",
       "      <td>75</td>\n",
       "      <td>78afa995795e4d85b5d9ceeca43f5fef</td>\n",
       "      <td>20170509</td>\n",
       "      <td>100000.0</td>\n",
       "    </tr>\n",
       "    <tr>\n",
       "      <th>4</th>\n",
       "      <td>None</td>\n",
       "      <td>118</td>\n",
       "      <td>a03223e636434f42ac4c3df47e8bac43</td>\n",
       "      <td>20170804</td>\n",
       "      <td>NaN</td>\n",
       "    </tr>\n",
       "  </tbody>\n",
       "</table>\n",
       "</div>"
      ],
      "text/plain": [
       "  gender  age                                id  became_member_on    income\n",
       "0   None  118  68be06ca386d4c31939f3a4f0e3dd783          20170212       NaN\n",
       "1      F   55  0610b486422d4921ae7d2bf64640c50b          20170715  112000.0\n",
       "2   None  118  38fe809add3b4fcf9315a9694bb96ff5          20180712       NaN\n",
       "3      F   75  78afa995795e4d85b5d9ceeca43f5fef          20170509  100000.0\n",
       "4   None  118  a03223e636434f42ac4c3df47e8bac43          20170804       NaN"
      ]
     },
     "execution_count": 152,
     "metadata": {},
     "output_type": "execute_result"
    }
   ],
   "source": [
    "profile.head()\n"
   ]
  },
  {
   "cell_type": "code",
   "execution_count": 153,
   "metadata": {},
   "outputs": [
    {
     "data": {
      "text/html": [
       "<div>\n",
       "<style scoped>\n",
       "    .dataframe tbody tr th:only-of-type {\n",
       "        vertical-align: middle;\n",
       "    }\n",
       "\n",
       "    .dataframe tbody tr th {\n",
       "        vertical-align: top;\n",
       "    }\n",
       "\n",
       "    .dataframe thead th {\n",
       "        text-align: right;\n",
       "    }\n",
       "</style>\n",
       "<table border=\"1\" class=\"dataframe\">\n",
       "  <thead>\n",
       "    <tr style=\"text-align: right;\">\n",
       "      <th></th>\n",
       "      <th>person</th>\n",
       "      <th>event</th>\n",
       "      <th>value</th>\n",
       "      <th>time</th>\n",
       "    </tr>\n",
       "  </thead>\n",
       "  <tbody>\n",
       "    <tr>\n",
       "      <th>0</th>\n",
       "      <td>78afa995795e4d85b5d9ceeca43f5fef</td>\n",
       "      <td>offer received</td>\n",
       "      <td>{'offer id': '9b98b8c7a33c4b65b9aebfe6a799e6d9'}</td>\n",
       "      <td>0</td>\n",
       "    </tr>\n",
       "    <tr>\n",
       "      <th>1</th>\n",
       "      <td>a03223e636434f42ac4c3df47e8bac43</td>\n",
       "      <td>offer received</td>\n",
       "      <td>{'offer id': '0b1e1539f2cc45b7b9fa7c272da2e1d7'}</td>\n",
       "      <td>0</td>\n",
       "    </tr>\n",
       "    <tr>\n",
       "      <th>2</th>\n",
       "      <td>e2127556f4f64592b11af22de27a7932</td>\n",
       "      <td>offer received</td>\n",
       "      <td>{'offer id': '2906b810c7d4411798c6938adc9daaa5'}</td>\n",
       "      <td>0</td>\n",
       "    </tr>\n",
       "    <tr>\n",
       "      <th>3</th>\n",
       "      <td>8ec6ce2a7e7949b1bf142def7d0e0586</td>\n",
       "      <td>offer received</td>\n",
       "      <td>{'offer id': 'fafdcd668e3743c1bb461111dcafc2a4'}</td>\n",
       "      <td>0</td>\n",
       "    </tr>\n",
       "    <tr>\n",
       "      <th>4</th>\n",
       "      <td>68617ca6246f4fbc85e91a2a49552598</td>\n",
       "      <td>offer received</td>\n",
       "      <td>{'offer id': '4d5c57ea9a6940dd891ad53e9dbe8da0'}</td>\n",
       "      <td>0</td>\n",
       "    </tr>\n",
       "  </tbody>\n",
       "</table>\n",
       "</div>"
      ],
      "text/plain": [
       "                             person           event  \\\n",
       "0  78afa995795e4d85b5d9ceeca43f5fef  offer received   \n",
       "1  a03223e636434f42ac4c3df47e8bac43  offer received   \n",
       "2  e2127556f4f64592b11af22de27a7932  offer received   \n",
       "3  8ec6ce2a7e7949b1bf142def7d0e0586  offer received   \n",
       "4  68617ca6246f4fbc85e91a2a49552598  offer received   \n",
       "\n",
       "                                              value  time  \n",
       "0  {'offer id': '9b98b8c7a33c4b65b9aebfe6a799e6d9'}     0  \n",
       "1  {'offer id': '0b1e1539f2cc45b7b9fa7c272da2e1d7'}     0  \n",
       "2  {'offer id': '2906b810c7d4411798c6938adc9daaa5'}     0  \n",
       "3  {'offer id': 'fafdcd668e3743c1bb461111dcafc2a4'}     0  \n",
       "4  {'offer id': '4d5c57ea9a6940dd891ad53e9dbe8da0'}     0  "
      ]
     },
     "execution_count": 153,
     "metadata": {},
     "output_type": "execute_result"
    }
   ],
   "source": [
    "transcript.head()"
   ]
  },
  {
   "cell_type": "code",
   "execution_count": 154,
   "metadata": {},
   "outputs": [
    {
     "name": "stdout",
     "output_type": "stream",
     "text": [
      "                age  became_member_on         income\n",
      "count  17000.000000      1.700000e+04   14825.000000\n",
      "mean      62.531412      2.016703e+07   65404.991568\n",
      "std       26.738580      1.167750e+04   21598.299410\n",
      "min       18.000000      2.013073e+07   30000.000000\n",
      "25%       45.000000      2.016053e+07   49000.000000\n",
      "50%       58.000000      2.017080e+07   64000.000000\n",
      "75%       73.000000      2.017123e+07   80000.000000\n",
      "max      118.000000      2.018073e+07  120000.000000\n",
      "          reward  difficulty   duration\n",
      "count  10.000000   10.000000  10.000000\n",
      "mean    4.200000    7.700000   6.500000\n",
      "std     3.583915    5.831905   2.321398\n",
      "min     0.000000    0.000000   3.000000\n",
      "25%     2.000000    5.000000   5.000000\n",
      "50%     4.000000    8.500000   7.000000\n",
      "75%     5.000000   10.000000   7.000000\n",
      "max    10.000000   20.000000  10.000000\n",
      "                time\n",
      "count  306534.000000\n",
      "mean      366.382940\n",
      "std       200.326314\n",
      "min         0.000000\n",
      "25%       186.000000\n",
      "50%       408.000000\n",
      "75%       528.000000\n",
      "max       714.000000\n"
     ]
    }
   ],
   "source": [
    "# Check basic statistics\n",
    "print(profile.describe())\n",
    "print(portfolio.describe())\n",
    "print(transcript.describe())\n"
   ]
  },
  {
   "cell_type": "markdown",
   "metadata": {},
   "source": [
    "## Data Cleaning"
   ]
  },
  {
   "cell_type": "code",
   "execution_count": 155,
   "metadata": {},
   "outputs": [
    {
     "name": "stdout",
     "output_type": "stream",
     "text": [
      "                             person           event  \\\n",
      "0  78afa995795e4d85b5d9ceeca43f5fef  offer received   \n",
      "1  a03223e636434f42ac4c3df47e8bac43  offer received   \n",
      "2  e2127556f4f64592b11af22de27a7932  offer received   \n",
      "3  8ec6ce2a7e7949b1bf142def7d0e0586  offer received   \n",
      "4  68617ca6246f4fbc85e91a2a49552598  offer received   \n",
      "\n",
      "                                              value  time  \\\n",
      "0  {'offer id': '9b98b8c7a33c4b65b9aebfe6a799e6d9'}     0   \n",
      "1  {'offer id': '0b1e1539f2cc45b7b9fa7c272da2e1d7'}     0   \n",
      "2  {'offer id': '2906b810c7d4411798c6938adc9daaa5'}     0   \n",
      "3  {'offer id': 'fafdcd668e3743c1bb461111dcafc2a4'}     0   \n",
      "4  {'offer id': '4d5c57ea9a6940dd891ad53e9dbe8da0'}     0   \n",
      "\n",
      "                           offer_id  amount  \n",
      "0  9b98b8c7a33c4b65b9aebfe6a799e6d9     0.0  \n",
      "1  0b1e1539f2cc45b7b9fa7c272da2e1d7     0.0  \n",
      "2  2906b810c7d4411798c6938adc9daaa5     0.0  \n",
      "3  fafdcd668e3743c1bb461111dcafc2a4     0.0  \n",
      "4  4d5c57ea9a6940dd891ad53e9dbe8da0     0.0  \n"
     ]
    }
   ],
   "source": [
    "# Extract offer id from value column where applicable\n",
    "transcript['offer_id'] = transcript['value'].apply(lambda x: x.get('offer id'))\n",
    "transcript['amount'] = transcript['value'].apply(lambda x: x.get('amount', 0))\n",
    "\n",
    "print(transcript.head())"
   ]
  },
  {
   "cell_type": "code",
   "execution_count": 156,
   "metadata": {},
   "outputs": [
    {
     "name": "stderr",
     "output_type": "stream",
     "text": [
      "C:\\Users\\kilgo\\AppData\\Local\\Temp\\ipykernel_37644\\3287058969.py:11: FutureWarning: A value is trying to be set on a copy of a DataFrame or Series through chained assignment using an inplace method.\n",
      "The behavior will change in pandas 3.0. This inplace method will never work because the intermediate object on which we are setting values always behaves as a copy.\n",
      "\n",
      "For example, when doing 'df[col].method(value, inplace=True)', try using 'df.method({col: value}, inplace=True)' or df[col] = df[col].method(value) instead, to perform the operation inplace on the original object.\n",
      "\n",
      "\n",
      "  profile['spending_without_offers'].fillna(0, inplace=True)\n"
     ]
    }
   ],
   "source": [
    "# Assuming 'offer_id' is None for transactions without associated offers\n",
    "transactions_without_offers = transcript[(transcript['event'] == 'transaction') & (transcript['offer_id'].isna())]\n",
    "\n",
    "# Calculate spending without offers for each user\n",
    "# Ensure that 'person' is the correct identifier in the transactions DataFrame\n",
    "user_spending_without_offers = transactions_without_offers.groupby('person')['amount'].sum().reset_index()\n",
    "user_spending_without_offers.rename(columns={'amount': 'spending_without_offers', 'person': 'id'}, inplace=True)\n",
    "\n",
    "# Merge this data back into the profile DataFrame using 'id' as the key\n",
    "profile = profile.merge(user_spending_without_offers, on='id', how='left')\n",
    "profile['spending_without_offers'].fillna(0, inplace=True)"
   ]
  },
  {
   "cell_type": "code",
   "execution_count": 157,
   "metadata": {},
   "outputs": [],
   "source": [
    "# Clean profile data\n",
    "profile['became_member_on'] = pd.to_datetime(profile['became_member_on'], format='%Y%m%d')\n",
    "profile['age'] = profile['age'].replace(118, np.nan)  # Assuming '118' means missing age\n",
    "profile.dropna(inplace=True)  # Dropping rows with any missing values\n"
   ]
  },
  {
   "cell_type": "markdown",
   "metadata": {},
   "source": []
  },
  {
   "cell_type": "markdown",
   "metadata": {},
   "source": [
    "## "
   ]
  },
  {
   "cell_type": "code",
   "execution_count": 159,
   "metadata": {},
   "outputs": [],
   "source": [
    "def create_user_offer_matrix(transcript):\n",
    "    \n",
    "    # Filter only 'offer received' and 'offer completed' events\n",
    "    offer_received = transcript[transcript['event'] == 'offer received']\n",
    "    offer_completed = transcript[transcript['event'] == 'offer completed']\n",
    "\n",
    "    # Create a matrix of users and offers using the correct key 'offer_id'\n",
    "    user_offer_matrix = offer_received.pivot_table(index='person', columns='offer_id', values='time', aggfunc='size', fill_value=0)\n",
    "    user_offer_matrix = (user_offer_matrix > 0).astype(int)  # Convert to binary\n",
    "\n",
    "    # Incorporate information from offer completed\n",
    "    completed_matrix = offer_completed.pivot_table(index='person', columns='offer_id', values='time', aggfunc='size', fill_value=0)\n",
    "    completed_matrix = (completed_matrix > 0).astype(int)  # Convert to binary\n",
    "\n",
    "    # Update the received offers with completed offers information\n",
    "    user_offer_matrix.update(completed_matrix)\n",
    "\n",
    "    return user_offer_matrix\n",
    "\n",
    "# Now call the function\n",
    "user_offer_matrix = create_user_offer_matrix(transcript)\n",
    "\n"
   ]
  },
  {
   "cell_type": "code",
   "execution_count": 160,
   "metadata": {},
   "outputs": [
    {
     "name": "stdout",
     "output_type": "stream",
     "text": [
      "Iteration 0: MSE 0.3729\n",
      "Iteration 10: MSE 0.3726\n",
      "Iteration 20: MSE 0.3724\n",
      "Iteration 30: MSE 0.3722\n",
      "Iteration 40: MSE 0.3719\n",
      "Iteration 50: MSE 0.3716\n",
      "Iteration 60: MSE 0.3710\n",
      "Iteration 70: MSE 0.3700\n",
      "Iteration 80: MSE 0.3684\n",
      "Iteration 90: MSE 0.3658\n"
     ]
    }
   ],
   "source": [
    "def funk_svd(matrix, latent_features=12, learning_rate=0.0001, iterations=100):\n",
    "    # Initialize user and offer matrices with random values\n",
    "    n_users, n_offers = matrix.shape\n",
    "    user_mat = np.random.normal(scale=1./latent_features, size=(n_users, latent_features))\n",
    "    offer_mat = np.random.normal(scale=1./latent_features, size=(n_offers, latent_features))\n",
    "    \n",
    "    # Perform gradient descent\n",
    "    for iteration in range(iterations):\n",
    "        for i in range(n_users):\n",
    "            for j in range(n_offers):\n",
    "                if matrix[i, j] > 0:  # only update if interaction is known\n",
    "                    error = matrix[i, j] - np.dot(user_mat[i, :], offer_mat[j, :])\n",
    "                    for k in range(latent_features):\n",
    "                        user_mat[i, k] += learning_rate * (2 * error * offer_mat[j, k])\n",
    "                        offer_mat[j, k] += learning_rate * (2 * error * user_mat[i, k])\n",
    "\n",
    "        # Print loss every 10 iterations\n",
    "        if (iteration % 10 == 0):\n",
    "            mse = mean_squared_error(matrix, np.dot(user_mat, offer_mat.T))\n",
    "            print('Iteration %d: MSE %.4f' % (iteration, mse))\n",
    "    \n",
    "    return user_mat, offer_mat\n",
    "\n",
    "# Convert DataFrame to numpy array for faster operations\n",
    "user_offer_np = user_offer_matrix.to_numpy()\n",
    "user_features, offer_features = funk_svd(user_offer_np)"
   ]
  },
  {
   "cell_type": "code",
   "execution_count": 161,
   "metadata": {},
   "outputs": [
    {
     "name": "stdout",
     "output_type": "stream",
     "text": [
      "offer_id\n",
      "0b1e1539f2cc45b7b9fa7c272da2e1d7    0.067946\n",
      "9b98b8c7a33c4b65b9aebfe6a799e6d9    0.066744\n",
      "fafdcd668e3743c1bb461111dcafc2a4    0.062280\n",
      "4d5c57ea9a6940dd891ad53e9dbe8da0    0.059823\n",
      "2298d6c36e964ae4a3e7e9706d1fb8c2    0.032511\n",
      "Name: 0610b486422d4921ae7d2bf64640c50b, dtype: float64\n"
     ]
    }
   ],
   "source": [
    "def recommend_offers(user_features, offer_features, user_id, user_offer_matrix):\n",
    "    # Calculate the dot product of user features and offer features\n",
    "    predictions = np.dot(user_features, offer_features.T)\n",
    "    \n",
    "    # Convert predictions to a DataFrame for easier handling\n",
    "    predictions_df = pd.DataFrame(predictions, index=user_offer_matrix.index, columns=user_offer_matrix.columns)\n",
    "    \n",
    "    # Get the offers for the user\n",
    "    user_row = predictions_df.loc[user_id]\n",
    "    # Sort the offers by predicted value\n",
    "    recommended_offers = user_row.sort_values(ascending=False)\n",
    "    \n",
    "    return recommended_offers\n",
    "\n",
    "# Example usage:\n",
    "user_id = profile.iloc[0]['id']\n",
    "recommended_offers = recommend_offers(user_features, offer_features, user_id, user_offer_matrix)\n",
    "print(recommended_offers.head())\n"
   ]
  },
  {
   "cell_type": "code",
   "execution_count": 162,
   "metadata": {},
   "outputs": [
    {
     "name": "stdout",
     "output_type": "stream",
     "text": [
      "                             person                          offer_id  \\\n",
      "0  0009655768c64bdeb2e877511632db8f  0b1e1539f2cc45b7b9fa7c272da2e1d7   \n",
      "1  00116118485d4dfda04fdbaba9a87b5c  0b1e1539f2cc45b7b9fa7c272da2e1d7   \n",
      "2  0011e0d4e6b944f998e987f904e8c1e5  0b1e1539f2cc45b7b9fa7c272da2e1d7   \n",
      "3  0020c2b971eb4e9188eac86d93036a77  0b1e1539f2cc45b7b9fa7c272da2e1d7   \n",
      "4  0020ccbbb6d84e358d3414a3ff76cffd  0b1e1539f2cc45b7b9fa7c272da2e1d7   \n",
      "\n",
      "      score gender   age became_member_on   income  spending_without_offers  \\\n",
      "0 -0.021337      M  33.0       2017-04-21  72000.0                   127.60   \n",
      "1  0.103134    NaN   NaN              NaT      NaN                      NaN   \n",
      "2 -0.130167      O  40.0       2018-01-09  57000.0                    79.46   \n",
      "3 -0.000645      F  59.0       2016-03-04  90000.0                   196.86   \n",
      "4 -0.091938      F  24.0       2016-11-11  60000.0                   154.05   \n",
      "\n",
      "   reward      channels  difficulty  duration offer_type  \n",
      "0       5  [web, email]          20        10   discount  \n",
      "1       5  [web, email]          20        10   discount  \n",
      "2       5  [web, email]          20        10   discount  \n",
      "3       5  [web, email]          20        10   discount  \n",
      "4       5  [web, email]          20        10   discount  \n"
     ]
    }
   ],
   "source": [
    "# Assuming user_features and offer_features have been obtained from funk_svd function\n",
    "predictions_matrix = np.dot(user_features, offer_features.T)\n",
    "\n",
    "# Assuming user_offer_matrix is indexed by 'person' and columns labeled by 'offer_id'\n",
    "user_ids = user_offer_matrix.index\n",
    "offer_ids = user_offer_matrix.columns\n",
    "\n",
    "# Create DataFrame from the predictions matrix\n",
    "predictions_df = pd.DataFrame(predictions_matrix, index=user_ids, columns=offer_ids)\n",
    "\n",
    "# Melt the DataFrame\n",
    "predictions_df = predictions_df.reset_index().melt(id_vars=['person'], value_vars=predictions_df.columns, var_name='offer_id', value_name='score')\n",
    "\n",
    "# Merge demographic data\n",
    "predictions_df = predictions_df.merge(profile, left_on='person', right_on='id', how='left')\n",
    "\n",
    "# Merge offer data\n",
    "predictions_df = predictions_df.merge(portfolio, left_on='offer_id', right_on='id', how='left')\n",
    "\n",
    "# Drop extra columns if necessary (e.g., repeated 'id' columns)\n",
    "predictions_df.drop(columns=['id_x', 'id_y'], inplace=True)\n",
    "\n",
    "# Example of what predictions_df will look like:\n",
    "print(predictions_df.head())\n"
   ]
  },
  {
   "cell_type": "code",
   "execution_count": null,
   "metadata": {},
   "outputs": [],
   "source": [
    "# Group by demographics and offer type to see response rates\n",
    "demographic_response = predictions_df.groupby(['age_group', 'gender', 'offer_type'])['score'].mean().unstack()\n",
    "print(demographic_response)\n"
   ]
  },
  {
   "cell_type": "markdown",
   "metadata": {},
   "source": []
  },
  {
   "cell_type": "code",
   "execution_count": 163,
   "metadata": {},
   "outputs": [
    {
     "name": "stdout",
     "output_type": "stream",
     "text": [
      "person                             object\n",
      "offer_id                           object\n",
      "score                             float64\n",
      "gender                             object\n",
      "age                               float64\n",
      "became_member_on           datetime64[ns]\n",
      "income                            float64\n",
      "spending_without_offers           float64\n",
      "reward                              int64\n",
      "channels                           object\n",
      "difficulty                          int64\n",
      "duration                            int64\n",
      "offer_type                         object\n",
      "dtype: object\n",
      "0\n",
      "Average Scores by Offer Type:\n",
      "offer_type\n",
      "bogo             0.018404\n",
      "discount         0.018894\n",
      "informational    0.020895\n",
      "Name: score, dtype: float64\n",
      "[-0.0213369   0.10313353 -0.13016704 ...  0.09931643 -0.03688065\n",
      " -0.02749344]\n"
     ]
    }
   ],
   "source": [
    "# Convert 'score' to float if it's not, handle conversion errors silently\n",
    "predictions_df['score'] = pd.to_numeric(predictions_df['score'], errors='coerce')\n",
    "\n",
    "\n",
    "print(predictions_df.dtypes)\n",
    "\n",
    "# Now check for any NaN values in 'score' which might indicate conversion issues\n",
    "print(predictions_df['score'].isna().sum())\n",
    "\n",
    "# Calculate mean scores by offer type\n",
    "offer_performance = predictions_df.groupby('offer_type')['score'].mean()\n",
    "\n",
    "# Print the performance metrics\n",
    "print(\"Average Scores by Offer Type:\")\n",
    "print(offer_performance)\n",
    "\n",
    "# Example to check unique values in 'score' if suspected to be non-numeric\n",
    "print(predictions_df['score'].unique())\n",
    "\n",
    "\n"
   ]
  },
  {
   "cell_type": "code",
   "execution_count": 164,
   "metadata": {},
   "outputs": [
    {
     "name": "stdout",
     "output_type": "stream",
     "text": [
      "Average Scores by Age Group:\n",
      "age_group\n",
      "(18, 30]     0.021116\n",
      "(30, 45]     0.018017\n",
      "(45, 60]     0.019346\n",
      "(60, 75]     0.017749\n",
      "(75, 90]     0.018166\n",
      "(90, 120]    0.022362\n",
      "Name: score, dtype: float64\n",
      "Average Scores by Income Group:\n",
      "income_group\n",
      "(30000, 50000]      0.018028\n",
      "(50000, 70000]      0.019997\n",
      "(70000, 90000]      0.016869\n",
      "(90000, 110000]     0.021791\n",
      "(110000, 130000]    0.017717\n",
      "Name: score, dtype: float64\n"
     ]
    },
    {
     "name": "stderr",
     "output_type": "stream",
     "text": [
      "C:\\Users\\kilgo\\AppData\\Local\\Temp\\ipykernel_37644\\3624836523.py:6: FutureWarning: The default of observed=False is deprecated and will be changed to True in a future version of pandas. Pass observed=False to retain current behavior or observed=True to adopt the future default and silence this warning.\n",
      "  avg_scores_by_age = predictions_df.groupby('age_group')['score'].mean()\n",
      "C:\\Users\\kilgo\\AppData\\Local\\Temp\\ipykernel_37644\\3624836523.py:7: FutureWarning: The default of observed=False is deprecated and will be changed to True in a future version of pandas. Pass observed=False to retain current behavior or observed=True to adopt the future default and silence this warning.\n",
      "  avg_scores_by_income = predictions_df.groupby('income_group')['score'].mean()\n"
     ]
    }
   ],
   "source": [
    "# Calculate average scores by demographic segments\n",
    "# Ensure 'age' and 'income' from profile are included in predictions_df before this operation\n",
    "predictions_df['age_group'] = pd.cut(predictions_df['age'], bins=[18, 30, 45, 60, 75, 90, 120])\n",
    "predictions_df['income_group'] = pd.cut(predictions_df['income'], bins=[30000, 50000, 70000, 90000, 110000, 130000])\n",
    "\n",
    "avg_scores_by_age = predictions_df.groupby('age_group')['score'].mean()\n",
    "avg_scores_by_income = predictions_df.groupby('income_group')['score'].mean()\n",
    "\n",
    "# Print the results\n",
    "print(\"Average Scores by Age Group:\")\n",
    "print(avg_scores_by_age)\n",
    "print(\"Average Scores by Income Group:\")\n",
    "print(avg_scores_by_income)\n"
   ]
  },
  {
   "cell_type": "markdown",
   "metadata": {},
   "source": [
    "## Visualizations"
   ]
  },
  {
   "cell_type": "code",
   "execution_count": 165,
   "metadata": {},
   "outputs": [
    {
     "data": {
      "image/png": "[encoded data removed]",
      "text/plain": [
       "<Figure size 1000x600 with 1 Axes>"
      ]
     },
     "metadata": {},
     "output_type": "display_data"
    },
    {
     "data": {
      "image/png": "[encoded data removed]",
      "text/plain": [
       "<Figure size 1000x600 with 1 Axes>"
      ]
     },
     "metadata": {},
     "output_type": "display_data"
    },
    {
     "data": {
      "image/png": "[encoded data removed]",
      "text/plain": [
       "<Figure size 1000x600 with 1 Axes>"
      ]
     },
     "metadata": {},
     "output_type": "display_data"
    }
   ],
   "source": [
    "# Distribution of Age\n",
    "plt.figure(figsize=(10, 6))\n",
    "sns.histplot(profile['age'].dropna(), kde=True)\n",
    "plt.title('Distribution of Customer Age')\n",
    "plt.xlabel('Age')\n",
    "plt.ylabel('Frequency')\n",
    "plt.show()\n",
    "\n",
    "# Distribution of Income\n",
    "plt.figure(figsize=(10, 6))\n",
    "sns.histplot(profile['income'], kde=True, color='green')\n",
    "plt.title('Distribution of Customer Income')\n",
    "plt.xlabel('Income')\n",
    "plt.ylabel('Frequency')\n",
    "plt.show()\n",
    "\n",
    "# Offer Type Distribution\n",
    "plt.figure(figsize=(10, 6))\n",
    "sns.countplot(data=portfolio, x='offer_type')\n",
    "plt.title('Distribution of Offer Types')\n",
    "plt.xlabel('Offer Type')\n",
    "plt.ylabel('Count')\n",
    "plt.show()\n",
    "\n"
   ]
  },
  {
   "cell_type": "code",
   "execution_count": 166,
   "metadata": {},
   "outputs": [
    {
     "data": {
      "image/png": "[encoded data removed]",
      "text/plain": [
       "<Figure size 1200x600 with 1 Axes>"
      ]
     },
     "metadata": {},
     "output_type": "display_data"
    }
   ],
   "source": [
    "# Histogram of all scores to see overall distribution\n",
    "plt.figure(figsize=(12, 6))\n",
    "sns.histplot(predictions_df['score'], kde=True, bins=30)\n",
    "plt.title('Histogram of All Prediction Scores')\n",
    "plt.xlabel('Prediction Score')\n",
    "plt.ylabel('Frequency')\n",
    "plt.show()"
   ]
  },
  {
   "cell_type": "code",
   "execution_count": 167,
   "metadata": {},
   "outputs": [
    {
     "name": "stdout",
     "output_type": "stream",
     "text": [
      "ANOVA test results: F-value = 12.171066957893709 , P-value = 5.182643330848802e-06\n"
     ]
    }
   ],
   "source": [
    "# Perform ANOVA test to see if there are statistically significant differences among the groups\n",
    "fvalue, pvalue = stats.f_oneway(predictions_df[predictions_df['offer_type'] == 'bogo']['score'],\n",
    "                                predictions_df[predictions_df['offer_type'] == 'discount']['score'],\n",
    "                                predictions_df[predictions_df['offer_type'] == 'informational']['score'])\n",
    "print('ANOVA test results: F-value =', fvalue, ', P-value =', pvalue)\n",
    "\n"
   ]
  },
  {
   "cell_type": "code",
   "execution_count": 168,
   "metadata": {},
   "outputs": [
    {
     "name": "stdout",
     "output_type": "stream",
     "text": [
      "Iteration 0: MSE 0.3789\n",
      "Iteration 10: MSE 0.3747\n",
      "Iteration 20: MSE 0.3733\n",
      "Iteration 30: MSE 0.3728\n",
      "Iteration 40: MSE 0.3727\n",
      "Iteration 50: MSE 0.3726\n",
      "Iteration 60: MSE 0.3726\n",
      "Iteration 70: MSE 0.3726\n",
      "Iteration 80: MSE 0.3726\n",
      "Iteration 90: MSE 0.3726\n",
      "Latent features: 5, Learning rate: 0.0001, MSE: 0.3726745335519889\n",
      "Iteration 0: MSE 0.3759\n",
      "Iteration 10: MSE 0.3727\n",
      "Iteration 20: MSE 0.3752\n",
      "Iteration 30: MSE 0.4405\n",
      "Iteration 40: MSE 0.5707\n",
      "Iteration 50: MSE 0.6076\n",
      "Iteration 60: MSE 0.6189\n",
      "Iteration 70: MSE 0.6233\n",
      "Iteration 80: MSE 0.6253\n",
      "Iteration 90: MSE 0.6263\n",
      "Latent features: 5, Learning rate: 0.001, MSE: 0.6267438743558673\n",
      "Iteration 0: MSE 0.3787\n",
      "Iteration 10: MSE 0.6275\n",
      "Iteration 20: MSE 0.6276\n",
      "Iteration 30: MSE 0.6276\n",
      "Iteration 40: MSE 0.6276\n",
      "Iteration 50: MSE 0.6276\n",
      "Iteration 60: MSE 0.6276\n",
      "Iteration 70: MSE 0.6276\n",
      "Iteration 80: MSE 0.6276\n",
      "Iteration 90: MSE 0.6276\n",
      "Latent features: 5, Learning rate: 0.01, MSE: 0.6275862068965516\n",
      "Iteration 0: MSE 0.3734\n",
      "Iteration 10: MSE 0.3729\n",
      "Iteration 20: MSE 0.3726\n",
      "Iteration 30: MSE 0.3724\n",
      "Iteration 40: MSE 0.3721\n",
      "Iteration 50: MSE 0.3718\n",
      "Iteration 60: MSE 0.3714\n",
      "Iteration 70: MSE 0.3708\n",
      "Iteration 80: MSE 0.3697\n",
      "Iteration 90: MSE 0.3680\n",
      "Latent features: 10, Learning rate: 0.0001, MSE: 0.36562437762676553\n",
      "Iteration 0: MSE 0.3729\n",
      "Iteration 10: MSE 0.3405\n",
      "Iteration 20: MSE 0.5329\n",
      "Iteration 30: MSE 0.6121\n",
      "Iteration 40: MSE 0.6227\n",
      "Iteration 50: MSE 0.6257\n",
      "Iteration 60: MSE 0.6268\n",
      "Iteration 70: MSE 0.6272\n",
      "Iteration 80: MSE 0.6274\n",
      "Iteration 90: MSE 0.6275\n",
      "Latent features: 10, Learning rate: 0.001, MSE: 0.6275451124558541\n",
      "Iteration 0: MSE 0.4693\n",
      "Iteration 10: MSE 0.6276\n",
      "Iteration 20: MSE 0.6276\n",
      "Iteration 30: MSE 0.6276\n",
      "Iteration 40: MSE 0.6276\n",
      "Iteration 50: MSE 0.6276\n",
      "Iteration 60: MSE 0.6276\n",
      "Iteration 70: MSE 0.6276\n",
      "Iteration 80: MSE 0.6276\n",
      "Iteration 90: MSE 0.6276\n",
      "Latent features: 10, Learning rate: 0.01, MSE: 0.6275862068965516\n",
      "Iteration 0: MSE 0.3725\n",
      "Iteration 10: MSE 0.3724\n",
      "Iteration 20: MSE 0.3723\n",
      "Iteration 30: MSE 0.3721\n",
      "Iteration 40: MSE 0.3719\n",
      "Iteration 50: MSE 0.3715\n",
      "Iteration 60: MSE 0.3710\n",
      "Iteration 70: MSE 0.3700\n",
      "Iteration 80: MSE 0.3682\n",
      "Iteration 90: MSE 0.3651\n",
      "Latent features: 20, Learning rate: 0.0001, MSE: 0.3604521930765022\n",
      "Iteration 0: MSE 0.3724\n",
      "Iteration 10: MSE 0.3411\n",
      "Iteration 20: MSE 0.5165\n",
      "Iteration 30: MSE 0.6023\n",
      "Iteration 40: MSE 0.6127\n",
      "Iteration 50: MSE 0.6167\n",
      "Iteration 60: MSE 0.6192\n",
      "Iteration 70: MSE 0.6210\n",
      "Iteration 80: MSE 0.6224\n",
      "Iteration 90: MSE 0.6234\n",
      "Latent features: 20, Learning rate: 0.001, MSE: 0.6241947167291546\n",
      "Iteration 0: MSE 0.3816\n",
      "Iteration 10: MSE 0.6120\n",
      "Iteration 20: MSE 0.6152\n",
      "Iteration 30: MSE 0.6158\n",
      "Iteration 40: MSE 0.6159\n",
      "Iteration 50: MSE 0.6159\n",
      "Iteration 60: MSE 0.6159\n",
      "Iteration 70: MSE 0.6159\n",
      "Iteration 80: MSE 0.6159\n",
      "Iteration 90: MSE 0.6159\n",
      "Latent features: 20, Learning rate: 0.01, MSE: 0.6158799670789958\n"
     ]
    }
   ],
   "source": [
    "# Adjusting the number of latent features\n",
    "latent_features_options = [5, 10, 20]\n",
    "learning_rates = [0.0001, 0.001, 0.01]\n",
    "\n",
    "for features in latent_features_options:\n",
    "    for lr in learning_rates:\n",
    "        user_features, offer_features = funk_svd(user_offer_np, latent_features=features, learning_rate=lr)\n",
    "        predictions = np.dot(user_features, offer_features.T)\n",
    "        mse = mean_squared_error(user_offer_np, predictions)\n",
    "        print(f'Latent features: {features}, Learning rate: {lr}, MSE: {mse}')\n"
   ]
  },
  {
   "cell_type": "code",
   "execution_count": 169,
   "metadata": {},
   "outputs": [
    {
     "name": "stdout",
     "output_type": "stream",
     "text": [
      "Statistically significant differences found among offer types. Suggesting targeted strategies.\n",
      "Focus more on 'informational' offers as they have the highest average score.\n"
     ]
    }
   ],
   "source": [
    "# Suggesting business actions based on insights\n",
    "if pvalue < 0.05:\n",
    "    print(\"Statistically significant differences found among offer types. Suggesting targeted strategies.\")\n",
    "    best_type = predictions_df.groupby('offer_type')['score'].mean().idxmax()\n",
    "    print(f\"Focus more on '{best_type}' offers as they have the highest average score.\")\n",
    "else:\n",
    "    print(\"No significant differences among offer types. Focus on optimizing overall offer engagement strategies.\")\n"
   ]
  },
  {
   "cell_type": "code",
   "execution_count": 170,
   "metadata": {},
   "outputs": [
    {
     "name": "stdout",
     "output_type": "stream",
     "text": [
      "Mean Scores by Offer Type: offer_type\n",
      "bogo             0.018404\n",
      "discount         0.018894\n",
      "informational    0.020895\n",
      "Name: score, dtype: float64\n"
     ]
    },
    {
     "name": "stderr",
     "output_type": "stream",
     "text": [
      "c:\\Users\\kilgo\\AppData\\Local\\Programs\\Python\\Python311\\Lib\\site-packages\\seaborn\\categorical.py:632: FutureWarning: SeriesGroupBy.grouper is deprecated and will be removed in a future version of pandas.\n",
      "  positions = grouped.grouper.result_index.to_numpy(dtype=float)\n"
     ]
    },
    {
     "data": {
      "image/png": "[encoded data removed]",
      "text/plain": [
       "<Figure size 1000x600 with 1 Axes>"
      ]
     },
     "metadata": {},
     "output_type": "display_data"
    }
   ],
   "source": [
    "# Calculate and print the mean scores by offer type to understand the magnitude of differences\n",
    "mean_scores = predictions_df.groupby('offer_type')['score'].mean()\n",
    "print(\"Mean Scores by Offer Type:\", mean_scores)\n",
    "\n",
    "# Visualizing the scores by offer type\n",
    "plt.figure(figsize=(10, 6))\n",
    "sns.boxplot(x='offer_type', y='score', data=predictions_df)\n",
    "plt.title('Box Plot of Prediction Scores by Offer Type')\n",
    "plt.xlabel('Offer Type')\n",
    "plt.ylabel('Scores')\n",
    "plt.show()\n"
   ]
  },
  {
   "cell_type": "markdown",
   "metadata": {},
   "source": [
    " ### Objective: Build models that predict customer response to offers and customer spending based on demographics and offer type."
   ]
  },
  {
   "cell_type": "code",
   "execution_count": 173,
   "metadata": {},
   "outputs": [],
   "source": [
    "# First, mark each offer as viewed\n",
    "transcript['viewed'] = np.where(transcript['event'] == 'offer viewed', 1, 0)\n",
    "\n",
    "# Now, create an indicator for offers being completed after being viewed\n",
    "transcript['completed_after_viewing'] = np.where(transcript['event'] == 'offer completed', 1, 0)\n",
    "\n",
    "# Merge these two indicators back to the main DataFrame\n",
    "transcript = transcript.sort_values(by=['person', 'time'])\n",
    "transcript['viewed_cumsum'] = transcript.groupby(['person', 'offer_id'])['viewed'].cumsum()\n",
    "transcript['completed_after_viewing_cumsum'] = transcript.groupby(['person', 'offer_id'])['completed_after_viewing'].cumsum()\n",
    "\n",
    "# Flag if an offer is responded to\n",
    "transcript['responded'] = np.where((transcript['completed_after_viewing_cumsum'] > 0) & \n",
    "                                   (transcript['viewed_cumsum'] > 0), 1, 0)\n"
   ]
  },
  {
   "cell_type": "code",
   "execution_count": 174,
   "metadata": {},
   "outputs": [],
   "source": [
    "# Aggregate this information to get one row per person per offer\n",
    "response_data = transcript.groupby(['person', 'offer_id'])['responded'].max().reset_index()\n",
    "\n",
    "# Merge this with predictions_df\n",
    "predictions_df = predictions_df.merge(response_data, on=['person', 'offer_id'], how='left')\n"
   ]
  },
  {
   "cell_type": "code",
   "execution_count": 181,
   "metadata": {},
   "outputs": [
    {
     "name": "stderr",
     "output_type": "stream",
     "text": [
      "C:\\Users\\kilgo\\AppData\\Local\\Temp\\ipykernel_37644\\2015148613.py:5: SettingWithCopyWarning: \n",
      "A value is trying to be set on a copy of a slice from a DataFrame.\n",
      "Try using .loc[row_indexer,col_indexer] = value instead\n",
      "\n",
      "See the caveats in the documentation: https://pandas.pydata.org/pandas-docs/stable/user_guide/indexing.html#returning-a-view-versus-a-copy\n",
      "  transactions['amount'] = transactions['value'].apply(lambda x: x.get('amount'))\n",
      "C:\\Users\\kilgo\\AppData\\Local\\Temp\\ipykernel_37644\\2015148613.py:15: FutureWarning: A value is trying to be set on a copy of a DataFrame or Series through chained assignment using an inplace method.\n",
      "The behavior will change in pandas 3.0. This inplace method will never work because the intermediate object on which we are setting values always behaves as a copy.\n",
      "\n",
      "For example, when doing 'df[col].method(value, inplace=True)', try using 'df.method({col: value}, inplace=True)' or df[col] = df[col].method(value) instead, to perform the operation inplace on the original object.\n",
      "\n",
      "\n",
      "  profile['total_spending'].fillna(0, inplace=True)\n"
     ]
    }
   ],
   "source": [
    "# Filter for transaction events\n",
    "transactions = transcript[transcript['event'] == 'transaction']\n",
    "\n",
    "# Extract the amount spent from the 'value' dictionary and create a new column 'amount'\n",
    "transactions['amount'] = transactions['value'].apply(lambda x: x.get('amount'))\n",
    "\n",
    "# Group by 'person' and sum the 'amount' to get total spending\n",
    "total_spending = transactions.groupby('person')['amount'].sum().reset_index()\n",
    "total_spending.rename(columns={'amount': 'total_spending'}, inplace=True)\n",
    "\n",
    "# Merge the total spending into the profile DataFrame\n",
    "profile = profile.merge(total_spending, left_on='id', right_on='person', how='left')\n",
    "\n",
    "# Since not all customers may have transactions, fill NaN values with 0\n",
    "profile['total_spending'].fillna(0, inplace=True)\n",
    "\n",
    "# Optionally, you can remove the extra 'person' column if it was created during the merge\n",
    "profile.drop(columns='person', inplace=True)\n"
   ]
  },
  {
   "cell_type": "code",
   "execution_count": 182,
   "metadata": {},
   "outputs": [
    {
     "name": "stdout",
     "output_type": "stream",
     "text": [
      "Random Forest Model Accuracy: 1.0\n"
     ]
    }
   ],
   "source": [
    "# Option 1: Drop rows where 'response' is NaN\n",
    "predictions_df = predictions_df.dropna(subset=['responded'])\n",
    "\n",
    "\n",
    "X = predictions_df[['age', 'income', 'gender', 'offer_type', 'spending_without_offers']]\n",
    "y = predictions_df['responded']  \n",
    "\n",
    "# Encode categorical data and split the dataset\n",
    "X = pd.get_dummies(X, columns=['gender', 'offer_type'], drop_first=True)\n",
    "X_train, X_test, y_train, y_test = train_test_split(X, y, test_size=0.3, random_state=42)\n",
    "\n",
    "# Building a Random Forest model\n",
    "model = RandomForestClassifier(n_estimators=100, random_state=42)\n",
    "model.fit(X_train, y_train)\n",
    "\n",
    "# Predicting and evaluating the model\n",
    "predictions = model.predict(X_test)\n",
    "print(\"Random Forest Model Accuracy:\", accuracy_score(y_test, predictions))"
   ]
  },
  {
   "cell_type": "code",
   "execution_count": 184,
   "metadata": {},
   "outputs": [
    {
     "name": "stdout",
     "output_type": "stream",
     "text": [
      "R^2 Score: 1.0\n"
     ]
    }
   ],
   "source": [
    "# Predicting how much a user will spend based on demographics and whether they receive an offer\n",
    "X = profile[['age', 'income', 'spending_without_offers', 'gender']]\n",
    "y = profile['total_spending'] \n",
    "\n",
    "# Encode the 'gender' categorical data\n",
    "X = pd.get_dummies(X, columns=['gender'], drop_first=True)\n",
    "\n",
    "X_train, X_test, y_train, y_test = train_test_split(X, y, test_size=0.3, random_state=42)\n",
    "\n",
    "lr = LinearRegression()\n",
    "lr.fit(X_train, y_train)\n",
    "print(\"R^2 Score:\", lr.score(X_test, y_test))"
   ]
  },
  {
   "cell_type": "code",
   "execution_count": 186,
   "metadata": {},
   "outputs": [],
   "source": [
    "# Example heuristic: Send BOGO offers to high spenders, discount offers to frequent, lower amount spenders\n",
    "profile['recommended_offer'] = profile.apply(lambda x: 'BOGO' if x['income'] > 70000 else 'Discount', axis=1)\n"
   ]
  },
  {
   "cell_type": "code",
   "execution_count": 187,
   "metadata": {},
   "outputs": [
    {
     "name": "stdout",
     "output_type": "stream",
     "text": [
      "Distribution of Recommended Offers:\n",
      "recommended_offer\n",
      "Discount    9040\n",
      "BOGO        5785\n",
      "Name: count, dtype: int64\n",
      "\n",
      "\n",
      "Percentage Distribution of Recommended Offers:\n",
      "recommended_offer\n",
      "Discount    60.978078\n",
      "BOGO        39.021922\n",
      "Name: proportion, dtype: float64\n",
      "\n",
      "\n"
     ]
    }
   ],
   "source": [
    "# Print the distribution of recommended offers\n",
    "print(\"Distribution of Recommended Offers:\")\n",
    "print(profile['recommended_offer'].value_counts())\n",
    "print(\"\\n\")\n",
    "\n",
    "# Optionally, show this as a percentage\n",
    "print(\"Percentage Distribution of Recommended Offers:\")\n",
    "print(profile['recommended_offer'].value_counts(normalize=True) * 100)\n",
    "print(\"\\n\")\n"
   ]
  },
  {
   "cell_type": "code",
   "execution_count": 188,
   "metadata": {},
   "outputs": [
    {
     "name": "stdout",
     "output_type": "stream",
     "text": [
      "Average Income of Starbucks Customers: $65404.99\n",
      "Average Total Spending of Starbucks Customers: $117.03\n",
      "\n",
      "\n",
      "Summary Statistics for Total Spending:\n",
      "count    14825.000000\n",
      "mean       117.028155\n",
      "std        129.965016\n",
      "min          0.000000\n",
      "25%         31.450000\n",
      "50%         87.040000\n",
      "75%        160.900000\n",
      "max       1608.690000\n",
      "Name: total_spending, dtype: float64\n",
      "\n",
      "\n"
     ]
    }
   ],
   "source": [
    "# Print average income and total spending\n",
    "print(\"Average Income of Starbucks Customers: ${:.2f}\".format(profile['income'].mean()))\n",
    "print(\"Average Total Spending of Starbucks Customers: ${:.2f}\".format(profile['total_spending'].mean()))\n",
    "print(\"\\n\")\n",
    "\n",
    "# Additional statistics can be included\n",
    "print(\"Summary Statistics for Total Spending:\")\n",
    "print(profile['total_spending'].describe())\n",
    "print(\"\\n\")\n"
   ]
  },
  {
   "cell_type": "code",
   "execution_count": 189,
   "metadata": {},
   "outputs": [
    {
     "name": "stdout",
     "output_type": "stream",
     "text": [
      "Correlation between Customer Income and Total Spending: 0.32\n",
      "\n",
      "\n",
      "Average Age of High Spenders: 56.9 years\n"
     ]
    }
   ],
   "source": [
    "# Correlation between income and total spending\n",
    "correlation = profile['income'].corr(profile['total_spending'])\n",
    "print(f\"Correlation between Customer Income and Total Spending: {correlation:.2f}\")\n",
    "print(\"\\n\")\n",
    "\n",
    "# Insights from demographic data\n",
    "average_age_high_spenders = profile[profile['total_spending'] > profile['total_spending'].median()]['age'].mean()\n",
    "print(f\"Average Age of High Spenders: {average_age_high_spenders:.1f} years\")\n"
   ]
  },
  {
   "cell_type": "markdown",
   "metadata": {},
   "source": [
    "> This analysis provides Starbucks with actionable insights into customer preferences and spending behavior. The recommendations for offer distribution should enhance marketing strategies and optimize customer engagement."
   ]
  },
  {
   "cell_type": "code",
   "execution_count": 190,
   "metadata": {},
   "outputs": [
    {
     "name": "stdout",
     "output_type": "stream",
     "text": [
      "Explore additional factors influencing spending as income alone does not strongly predict spending habits.\n"
     ]
    }
   ],
   "source": [
    "# Identify if any offers are particularly effective\n",
    "if 'response_rate' in profile.columns:\n",
    "    most_effective_offer = profile.groupby('recommended_offer')['response_rate'].mean().idxmax()\n",
    "    print(f\"Most Effective Offer Type: {most_effective_offer}\")\n",
    "    print(\"\\n\")\n",
    "\n",
    "# Suggest actions based on findings\n",
    "if correlation > 0.5:\n",
    "    print(\"Strong positive correlation between income and spending suggests targeting high-income users might increase profitability.\")\n",
    "else:\n",
    "    print(\"Explore additional factors influencing spending as income alone does not strongly predict spending habits.\")\n"
   ]
  }
 ],
 "metadata": {
  "kernelspec": {
   "display_name": "Python 3",
   "language": "python",
   "name": "python3"
  },
  "language_info": {
   "codemirror_mode": {
    "name": "ipython",
    "version": 3
   },
   "file_extension": ".py",
   "mimetype": "text/x-python",
   "name": "python",
   "nbconvert_exporter": "python",
   "pygments_lexer": "ipython3",
   "version": "3.11.1"
  }
 },
 "nbformat": 4,
 "nbformat_minor": 2
}
